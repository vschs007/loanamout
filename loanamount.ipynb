{
  "nbformat": 4,
  "nbformat_minor": 0,
  "metadata": {
    "colab": {
      "name": "Copy of loanamount.ipynb",
      "provenance": [],
      "authorship_tag": "ABX9TyOAdGaAoy/Cvm8EU1cjDupJ",
      "include_colab_link": true
    },
    "kernelspec": {
      "name": "python3",
      "display_name": "Python 3"
    },
    "language_info": {
      "name": "python"
    }
  },
  "cells": [
    {
      "cell_type": "markdown",
      "metadata": {
        "id": "view-in-github",
        "colab_type": "text"
      },
      "source": [
        "<a href=\"https://colab.research.google.com/github/vschs007/loanamout/blob/main/loanamount.ipynb\" target=\"_parent\"><img src=\"https://colab.research.google.com/assets/colab-badge.svg\" alt=\"Open In Colab\"/></a>"
      ]
    },
    {
      "cell_type": "code",
      "metadata": {
        "id": "kyUgdEH9Cn4q"
      },
      "source": [
        "import numpy as np\n",
        "import pandas as pd\n",
        "import matplotlib.pyplot as plt\n",
        "import seaborn as sns"
      ],
      "execution_count": null,
      "outputs": []
    },
    {
      "cell_type": "code",
      "metadata": {
        "id": "FNmd9lDwFdqf"
      },
      "source": [
        "#loading the datasets\n",
        "dataset = pd.read_csv(\"test.csv\")\n",
        "#dtrain = pd.read_csv(\"train.csv\")"
      ],
      "execution_count": null,
      "outputs": []
    },
    {
      "cell_type": "code",
      "metadata": {
        "colab": {
          "base_uri": "https://localhost:8080/",
          "height": 360
        },
        "id": "qSEleVYkF2Qk",
        "outputId": "915e8b74-2c5e-48e4-c0f9-bbddf4946277"
      },
      "source": [
        "dtrain.head()"
      ],
      "execution_count": null,
      "outputs": [
        {
          "output_type": "execute_result",
          "data": {
            "text/html": [
              "<div>\n",
              "<style scoped>\n",
              "    .dataframe tbody tr th:only-of-type {\n",
              "        vertical-align: middle;\n",
              "    }\n",
              "\n",
              "    .dataframe tbody tr th {\n",
              "        vertical-align: top;\n",
              "    }\n",
              "\n",
              "    .dataframe thead th {\n",
              "        text-align: right;\n",
              "    }\n",
              "</style>\n",
              "<table border=\"1\" class=\"dataframe\">\n",
              "  <thead>\n",
              "    <tr style=\"text-align: right;\">\n",
              "      <th></th>\n",
              "      <th>Customer ID</th>\n",
              "      <th>Name</th>\n",
              "      <th>Gender</th>\n",
              "      <th>Age</th>\n",
              "      <th>Income (USD)</th>\n",
              "      <th>Income Stability</th>\n",
              "      <th>Profession</th>\n",
              "      <th>Type of Employment</th>\n",
              "      <th>Location</th>\n",
              "      <th>Loan Amount Request (USD)</th>\n",
              "      <th>Current Loan Expenses (USD)</th>\n",
              "      <th>Expense Type 1</th>\n",
              "      <th>Expense Type 2</th>\n",
              "      <th>Dependents</th>\n",
              "      <th>Credit Score</th>\n",
              "      <th>No. of Defaults</th>\n",
              "      <th>Has Active Credit Card</th>\n",
              "      <th>Property ID</th>\n",
              "      <th>Property Age</th>\n",
              "      <th>Property Type</th>\n",
              "      <th>Property Location</th>\n",
              "      <th>Co-Applicant</th>\n",
              "      <th>Property Price</th>\n",
              "      <th>Loan Sanction Amount (USD)</th>\n",
              "    </tr>\n",
              "  </thead>\n",
              "  <tbody>\n",
              "    <tr>\n",
              "      <th>0</th>\n",
              "      <td>C-36995</td>\n",
              "      <td>Frederica Shealy</td>\n",
              "      <td>F</td>\n",
              "      <td>56</td>\n",
              "      <td>1933.05</td>\n",
              "      <td>Low</td>\n",
              "      <td>Working</td>\n",
              "      <td>Sales staff</td>\n",
              "      <td>Semi-Urban</td>\n",
              "      <td>72809.58</td>\n",
              "      <td>241.08</td>\n",
              "      <td>N</td>\n",
              "      <td>N</td>\n",
              "      <td>3.0</td>\n",
              "      <td>809.44</td>\n",
              "      <td>0</td>\n",
              "      <td>NaN</td>\n",
              "      <td>746</td>\n",
              "      <td>1933.05</td>\n",
              "      <td>4</td>\n",
              "      <td>Rural</td>\n",
              "      <td>1</td>\n",
              "      <td>119933.46</td>\n",
              "      <td>54607.18</td>\n",
              "    </tr>\n",
              "    <tr>\n",
              "      <th>1</th>\n",
              "      <td>C-33999</td>\n",
              "      <td>America Calderone</td>\n",
              "      <td>M</td>\n",
              "      <td>32</td>\n",
              "      <td>4952.91</td>\n",
              "      <td>Low</td>\n",
              "      <td>Working</td>\n",
              "      <td>NaN</td>\n",
              "      <td>Semi-Urban</td>\n",
              "      <td>46837.47</td>\n",
              "      <td>495.81</td>\n",
              "      <td>N</td>\n",
              "      <td>Y</td>\n",
              "      <td>1.0</td>\n",
              "      <td>780.40</td>\n",
              "      <td>0</td>\n",
              "      <td>Unpossessed</td>\n",
              "      <td>608</td>\n",
              "      <td>4952.91</td>\n",
              "      <td>2</td>\n",
              "      <td>Rural</td>\n",
              "      <td>1</td>\n",
              "      <td>54791.00</td>\n",
              "      <td>37469.98</td>\n",
              "    </tr>\n",
              "    <tr>\n",
              "      <th>2</th>\n",
              "      <td>C-3770</td>\n",
              "      <td>Rosetta Verne</td>\n",
              "      <td>F</td>\n",
              "      <td>65</td>\n",
              "      <td>988.19</td>\n",
              "      <td>High</td>\n",
              "      <td>Pensioner</td>\n",
              "      <td>NaN</td>\n",
              "      <td>Semi-Urban</td>\n",
              "      <td>45593.04</td>\n",
              "      <td>171.95</td>\n",
              "      <td>N</td>\n",
              "      <td>Y</td>\n",
              "      <td>1.0</td>\n",
              "      <td>833.15</td>\n",
              "      <td>0</td>\n",
              "      <td>Unpossessed</td>\n",
              "      <td>546</td>\n",
              "      <td>988.19</td>\n",
              "      <td>2</td>\n",
              "      <td>Urban</td>\n",
              "      <td>0</td>\n",
              "      <td>72440.58</td>\n",
              "      <td>36474.43</td>\n",
              "    </tr>\n",
              "    <tr>\n",
              "      <th>3</th>\n",
              "      <td>C-26480</td>\n",
              "      <td>Zoe Chitty</td>\n",
              "      <td>F</td>\n",
              "      <td>65</td>\n",
              "      <td>NaN</td>\n",
              "      <td>High</td>\n",
              "      <td>Pensioner</td>\n",
              "      <td>NaN</td>\n",
              "      <td>Rural</td>\n",
              "      <td>80057.92</td>\n",
              "      <td>298.54</td>\n",
              "      <td>N</td>\n",
              "      <td>Y</td>\n",
              "      <td>2.0</td>\n",
              "      <td>832.70</td>\n",
              "      <td>1</td>\n",
              "      <td>Unpossessed</td>\n",
              "      <td>890</td>\n",
              "      <td>NaN</td>\n",
              "      <td>2</td>\n",
              "      <td>Semi-Urban</td>\n",
              "      <td>1</td>\n",
              "      <td>121441.51</td>\n",
              "      <td>56040.54</td>\n",
              "    </tr>\n",
              "    <tr>\n",
              "      <th>4</th>\n",
              "      <td>C-23459</td>\n",
              "      <td>Afton Venema</td>\n",
              "      <td>F</td>\n",
              "      <td>31</td>\n",
              "      <td>2614.77</td>\n",
              "      <td>Low</td>\n",
              "      <td>Working</td>\n",
              "      <td>High skill tech staff</td>\n",
              "      <td>Semi-Urban</td>\n",
              "      <td>113858.89</td>\n",
              "      <td>491.41</td>\n",
              "      <td>N</td>\n",
              "      <td>Y</td>\n",
              "      <td>NaN</td>\n",
              "      <td>745.55</td>\n",
              "      <td>1</td>\n",
              "      <td>Active</td>\n",
              "      <td>715</td>\n",
              "      <td>2614.77</td>\n",
              "      <td>4</td>\n",
              "      <td>Semi-Urban</td>\n",
              "      <td>1</td>\n",
              "      <td>208567.91</td>\n",
              "      <td>74008.28</td>\n",
              "    </tr>\n",
              "  </tbody>\n",
              "</table>\n",
              "</div>"
            ],
            "text/plain": [
              "  Customer ID               Name  ... Property Price  Loan Sanction Amount (USD)\n",
              "0     C-36995   Frederica Shealy  ...      119933.46                    54607.18\n",
              "1     C-33999  America Calderone  ...       54791.00                    37469.98\n",
              "2      C-3770      Rosetta Verne  ...       72440.58                    36474.43\n",
              "3     C-26480         Zoe Chitty  ...      121441.51                    56040.54\n",
              "4     C-23459       Afton Venema  ...      208567.91                    74008.28\n",
              "\n",
              "[5 rows x 24 columns]"
            ]
          },
          "metadata": {
            "tags": []
          },
          "execution_count": 209
        }
      ]
    },
    {
      "cell_type": "code",
      "metadata": {
        "colab": {
          "base_uri": "https://localhost:8080/"
        },
        "id": "tQvFqwZEHXO_",
        "outputId": "952d98db-ccec-44a8-e2e9-39d4762bf784"
      },
      "source": [
        "dtrain.info()"
      ],
      "execution_count": null,
      "outputs": [
        {
          "output_type": "stream",
          "text": [
            "<class 'pandas.core.frame.DataFrame'>\n",
            "RangeIndex: 30000 entries, 0 to 29999\n",
            "Data columns (total 24 columns):\n",
            " #   Column                       Non-Null Count  Dtype  \n",
            "---  ------                       --------------  -----  \n",
            " 0   Customer ID                  30000 non-null  object \n",
            " 1   Name                         30000 non-null  object \n",
            " 2   Gender                       29947 non-null  object \n",
            " 3   Age                          30000 non-null  int64  \n",
            " 4   Income (USD)                 25424 non-null  float64\n",
            " 5   Income Stability             28317 non-null  object \n",
            " 6   Profession                   30000 non-null  object \n",
            " 7   Type of Employment           22730 non-null  object \n",
            " 8   Location                     30000 non-null  object \n",
            " 9   Loan Amount Request (USD)    30000 non-null  float64\n",
            " 10  Current Loan Expenses (USD)  29828 non-null  float64\n",
            " 11  Expense Type 1               30000 non-null  object \n",
            " 12  Expense Type 2               30000 non-null  object \n",
            " 13  Dependents                   27507 non-null  float64\n",
            " 14  Credit Score                 28297 non-null  float64\n",
            " 15  No. of Defaults              30000 non-null  int64  \n",
            " 16  Has Active Credit Card       28434 non-null  object \n",
            " 17  Property ID                  30000 non-null  int64  \n",
            " 18  Property Age                 25150 non-null  float64\n",
            " 19  Property Type                30000 non-null  int64  \n",
            " 20  Property Location            29644 non-null  object \n",
            " 21  Co-Applicant                 30000 non-null  int64  \n",
            " 22  Property Price               30000 non-null  float64\n",
            " 23  Loan Sanction Amount (USD)   29660 non-null  float64\n",
            "dtypes: float64(8), int64(5), object(11)\n",
            "memory usage: 5.5+ MB\n"
          ],
          "name": "stdout"
        }
      ]
    },
    {
      "cell_type": "code",
      "metadata": {
        "colab": {
          "base_uri": "https://localhost:8080/"
        },
        "id": "OQ92DOxNH6HH",
        "outputId": "c913c966-a9c0-404b-b064-eb145820b7c8"
      },
      "source": [
        "dtrain.columns"
      ],
      "execution_count": null,
      "outputs": [
        {
          "output_type": "execute_result",
          "data": {
            "text/plain": [
              "Index(['Customer ID', 'Name', 'Gender', 'Age', 'Income (USD)',\n",
              "       'Income Stability', 'Profession', 'Type of Employment', 'Location',\n",
              "       'Loan Amount Request (USD)', 'Current Loan Expenses (USD)',\n",
              "       'Expense Type 1', 'Expense Type 2', 'Dependents', 'Credit Score',\n",
              "       'No. of Defaults', 'Has Active Credit Card', 'Property ID',\n",
              "       'Property Age', 'Property Type', 'Property Location', 'Co-Applicant',\n",
              "       'Property Price', 'Loan Sanction Amount (USD)'],\n",
              "      dtype='object')"
            ]
          },
          "metadata": {
            "tags": []
          },
          "execution_count": 213
        }
      ]
    },
    {
      "cell_type": "code",
      "metadata": {
        "colab": {
          "base_uri": "https://localhost:8080/"
        },
        "id": "g9bqtJ-DH_Bj",
        "outputId": "3be1f4ed-b39f-4784-f657-73627ded21dc"
      },
      "source": [
        "dtrain[\"Gender\"].value_counts()"
      ],
      "execution_count": null,
      "outputs": [
        {
          "output_type": "execute_result",
          "data": {
            "text/plain": [
              "M    15053\n",
              "F    14894\n",
              "Name: Gender, dtype: int64"
            ]
          },
          "metadata": {
            "tags": []
          },
          "execution_count": 215
        }
      ]
    },
    {
      "cell_type": "code",
      "metadata": {
        "colab": {
          "base_uri": "https://localhost:8080/"
        },
        "id": "DRymJOAVIMPp",
        "outputId": "34b03f50-09ff-4aba-db09-5f4fa9a21a15"
      },
      "source": [
        "dtrain[\"Profession\"].value_counts()"
      ],
      "execution_count": null,
      "outputs": [
        {
          "output_type": "execute_result",
          "data": {
            "text/plain": [
              "Working                 16926\n",
              "Commercial associate     7962\n",
              "Pensioner                2740\n",
              "State servant            2366\n",
              "Businessman                 2\n",
              "Unemployed                  2\n",
              "Maternity leave             1\n",
              "Student                     1\n",
              "Name: Profession, dtype: int64"
            ]
          },
          "metadata": {
            "tags": []
          },
          "execution_count": 216
        }
      ]
    },
    {
      "cell_type": "code",
      "metadata": {
        "colab": {
          "base_uri": "https://localhost:8080/"
        },
        "id": "h8PCycL5P8Sx",
        "outputId": "f34074a7-6427-4088-db19-4032f8b69e45"
      },
      "source": [
        "dtrain[\"Property Location\"].value_counts()"
      ],
      "execution_count": null,
      "outputs": [
        {
          "output_type": "execute_result",
          "data": {
            "text/plain": [
              "Semi-Urban    10387\n",
              "Rural         10041\n",
              "Urban          9216\n",
              "Name: Property Location, dtype: int64"
            ]
          },
          "metadata": {
            "tags": []
          },
          "execution_count": 217
        }
      ]
    },
    {
      "cell_type": "code",
      "metadata": {
        "colab": {
          "base_uri": "https://localhost:8080/"
        },
        "id": "7EZiJOfcSAf7",
        "outputId": "a1cee988-d688-4292-e22c-d86b2f6be21e"
      },
      "source": [
        " dtrain[\"Income Stability\"].value_counts()"
      ],
      "execution_count": null,
      "outputs": [
        {
          "output_type": "execute_result",
          "data": {
            "text/plain": [
              "Low     25751\n",
              "High     2566\n",
              "Name: Income Stability, dtype: int64"
            ]
          },
          "metadata": {
            "tags": []
          },
          "execution_count": 218
        }
      ]
    },
    {
      "cell_type": "code",
      "metadata": {
        "colab": {
          "base_uri": "https://localhost:8080/",
          "height": 515
        },
        "id": "6HJHdDy7IgLb",
        "outputId": "be20f7e3-b29e-4f59-b3ce-ff278d066732"
      },
      "source": [
        "plt.figure(figsize=(16, 6))\n",
        "heatmap = sns.heatmap(dtrain.corr(), vmin=-1, vmax=1, annot=True, cmap='BrBG')"
      ],
      "execution_count": null,
      "outputs": [
        {
          "output_type": "display_data",
          "data": {
            "image/png": "[encoded data removed]",
            "text/plain": [
              "<Figure size 1152x432 with 2 Axes>"
            ]
          },
          "metadata": {
            "tags": [],
            "needs_background": "light"
          }
        }
      ]
    },
    {
      "cell_type": "code",
      "metadata": {
        "colab": {
          "base_uri": "https://localhost:8080/"
        },
        "id": "0oJdaRObKdsQ",
        "outputId": "8c4b0fec-f10d-4088-c6c5-c954f940bf29"
      },
      "source": [
        "dtrain.isna().sum()"
      ],
      "execution_count": null,
      "outputs": [
        {
          "output_type": "execute_result",
          "data": {
            "text/plain": [
              "Customer ID                       0\n",
              "Name                              0\n",
              "Gender                           53\n",
              "Age                               0\n",
              "Income (USD)                   4576\n",
              "Income Stability               1683\n",
              "Profession                        0\n",
              "Type of Employment             7270\n",
              "Location                          0\n",
              "Loan Amount Request (USD)         0\n",
              "Current Loan Expenses (USD)     172\n",
              "Expense Type 1                    0\n",
              "Expense Type 2                    0\n",
              "Dependents                     2493\n",
              "Credit Score                   1703\n",
              "No. of Defaults                   0\n",
              "Has Active Credit Card         1566\n",
              "Property ID                       0\n",
              "Property Age                   4850\n",
              "Property Type                     0\n",
              "Property Location               356\n",
              "Co-Applicant                      0\n",
              "Property Price                    0\n",
              "Loan Sanction Amount (USD)      340\n",
              "dtype: int64"
            ]
          },
          "metadata": {
            "tags": []
          },
          "execution_count": 222
        }
      ]
    },
    {
      "cell_type": "code",
      "metadata": {
        "id": "b8YsHnc0MRap"
      },
      "source": [
        "#data preprocessing\n",
        "dtrain = dtrain.drop(['Gender','Name','Customer ID'],axis =1)"
      ],
      "execution_count": null,
      "outputs": []
    },
    {
      "cell_type": "code",
      "metadata": {
        "colab": {
          "base_uri": "https://localhost:8080/"
        },
        "id": "0_jU-bJLM7MB",
        "outputId": "35761c06-3a69-47b5-8edb-ff82ca0c1cc2"
      },
      "source": [
        "dtrain.isna().sum()"
      ],
      "execution_count": null,
      "outputs": [
        {
          "output_type": "execute_result",
          "data": {
            "text/plain": [
              "Age                               0\n",
              "Income (USD)                   4576\n",
              "Income Stability               1683\n",
              "Profession                        0\n",
              "Type of Employment             7270\n",
              "Location                          0\n",
              "Loan Amount Request (USD)         0\n",
              "Current Loan Expenses (USD)     172\n",
              "Expense Type 1                    0\n",
              "Expense Type 2                    0\n",
              "Dependents                     2493\n",
              "Credit Score                   1703\n",
              "No. of Defaults                   0\n",
              "Has Active Credit Card         1566\n",
              "Property ID                       0\n",
              "Property Age                   4850\n",
              "Property Type                     0\n",
              "Property Location               356\n",
              "Co-Applicant                      0\n",
              "Property Price                    0\n",
              "Loan Sanction Amount (USD)      340\n",
              "dtype: int64"
            ]
          },
          "metadata": {
            "tags": []
          },
          "execution_count": 224
        }
      ]
    },
    {
      "cell_type": "code",
      "metadata": {
        "id": "LjvI8hhUR5lv"
      },
      "source": [
        "#applying one hot encoder to income stability.\n",
        "d = {'Low':0,'High':1}\n",
        "k = {'Y':1,'N':0}\n",
        "f = {'Unpossessed':0,'Inactive':0,'Active':1}\n",
        "\n",
        "\n",
        "dtrain['Income Stability'] = dtrain['Income Stability'].map(d)\n",
        "dtrain['Has Active Credit Card'] = dtrain['Has Active Credit Card'].map(f)\n",
        "dtrain['Expense Type 1'] = dtrain['Expense Type 1'].map(k)\n",
        "dtrain['Expense Type 2'] = dtrain['Expense Type 2'].map(k)"
      ],
      "execution_count": null,
      "outputs": []
    },
    {
      "cell_type": "code",
      "metadata": {
        "colab": {
          "base_uri": "https://localhost:8080/"
        },
        "id": "CeXUshPJXTrh",
        "outputId": "22d75d45-734e-493c-de00-1862f4dcac60"
      },
      "source": [
        "dtrain['Income Stability'] = dtrain['Income Stability'].fillna(0)\n",
        "dtrain[\"Income (USD)\"].fillna(dtrain[\"Income (USD)\"].mode()[0], inplace=True)\n",
        "dtrain = dtrain.drop(['Type of Employment','Location','Age'],axis=1)\n",
        "dtrain = dtrain.drop(['Co-Applicant'],axis=1)\n",
        "dtrain = dtrain.drop(['Property Location'],axis=1)\n",
        "dtrain = dtrain.drop(['Property Age'],axis=1)\n",
        "\n",
        "\n",
        "dtrain['Current Loan Expenses (USD)'] = dtrain['Current Loan Expenses (USD)'].fillna(0)\n",
        "dtrain['Dependents'] = dtrain['Dependents'].fillna(0)\n",
        "dtrain[\"Credit Score\"].fillna(dtrain[\"Credit Score\"].mode()[0], inplace=True)\n",
        "dtrain[\"Property Price\"].fillna(dtrain[\"Property Price\"].mode()[0], inplace=True)\n",
        "\n",
        "#dtrain = dtrain.drop(['Location'],axis=1)\n",
        "\n",
        "\n",
        "dtrain['Has Active Credit Card'] = dtrain['Has Active Credit Card'].fillna(0)\n",
        "dtrain.isna().sum()"
      ],
      "execution_count": null,
      "outputs": [
        {
          "output_type": "execute_result",
          "data": {
            "text/plain": [
              "Income (USD)                     0\n",
              "Income Stability                 0\n",
              "Profession                       0\n",
              "Loan Amount Request (USD)        0\n",
              "Current Loan Expenses (USD)      0\n",
              "Expense Type 1                   0\n",
              "Expense Type 2                   0\n",
              "Dependents                       0\n",
              "Credit Score                     0\n",
              "No. of Defaults                  0\n",
              "Has Active Credit Card           0\n",
              "Property ID                      0\n",
              "Property Type                    0\n",
              "Property Price                   0\n",
              "Loan Sanction Amount (USD)     340\n",
              "dtype: int64"
            ]
          },
          "metadata": {
            "tags": []
          },
          "execution_count": 226
        }
      ]
    },
    {
      "cell_type": "code",
      "metadata": {
        "id": "omUR0g83k3nd"
      },
      "source": [
        "dtrain = dtrain.drop(['Profession'],axis=1)\n",
        "dtrain = dtrain.drop(['Property Price'],axis=1)\n"
      ],
      "execution_count": null,
      "outputs": []
    },
    {
      "cell_type": "code",
      "metadata": {
        "id": "k0y6MvuEnE3b"
      },
      "source": [
        "#dtrain = dtrain.drop(['Expense Type 1','Expense Type 2'],axis=1)"
      ],
      "execution_count": null,
      "outputs": []
    },
    {
      "cell_type": "code",
      "metadata": {
        "id": "Lymu2WbinRT1",
        "colab": {
          "base_uri": "https://localhost:8080/",
          "height": 306
        },
        "outputId": "52c56390-7032-40d0-f9e6-0bd45c90d58d"
      },
      "source": [
        "dtrain = dtrain.drop(['Property ID','Property Type'],axis=1)"
      ],
      "execution_count": null,
      "outputs": [
        {
          "output_type": "error",
          "ename": "KeyError",
          "evalue": "ignored",
          "traceback": [
            "\u001b[0;31m---------------------------------------------------------------------------\u001b[0m",
            "\u001b[0;31mKeyError\u001b[0m                                  Traceback (most recent call last)",
            "\u001b[0;32m<ipython-input-229-69292910253c>\u001b[0m in \u001b[0;36m<module>\u001b[0;34m()\u001b[0m\n\u001b[0;32m----> 1\u001b[0;31m \u001b[0mdtrain\u001b[0m \u001b[0;34m=\u001b[0m \u001b[0mdtrain\u001b[0m\u001b[0;34m.\u001b[0m\u001b[0mdrop\u001b[0m\u001b[0;34m(\u001b[0m\u001b[0;34m[\u001b[0m\u001b[0;34m'Property ID'\u001b[0m\u001b[0;34m,\u001b[0m\u001b[0;34m'Property Type'\u001b[0m\u001b[0;34m]\u001b[0m\u001b[0;34m,\u001b[0m\u001b[0maxis\u001b[0m\u001b[0;34m=\u001b[0m\u001b[0;36m1\u001b[0m\u001b[0;34m)\u001b[0m\u001b[0;34m\u001b[0m\u001b[0;34m\u001b[0m\u001b[0m\n\u001b[0m",
            "\u001b[0;32m/usr/local/lib/python3.7/dist-packages/pandas/core/frame.py\u001b[0m in \u001b[0;36mdrop\u001b[0;34m(self, labels, axis, index, columns, level, inplace, errors)\u001b[0m\n\u001b[1;32m   4172\u001b[0m             \u001b[0mlevel\u001b[0m\u001b[0;34m=\u001b[0m\u001b[0mlevel\u001b[0m\u001b[0;34m,\u001b[0m\u001b[0;34m\u001b[0m\u001b[0;34m\u001b[0m\u001b[0m\n\u001b[1;32m   4173\u001b[0m             \u001b[0minplace\u001b[0m\u001b[0;34m=\u001b[0m\u001b[0minplace\u001b[0m\u001b[0;34m,\u001b[0m\u001b[0;34m\u001b[0m\u001b[0;34m\u001b[0m\u001b[0m\n\u001b[0;32m-> 4174\u001b[0;31m             \u001b[0merrors\u001b[0m\u001b[0;34m=\u001b[0m\u001b[0merrors\u001b[0m\u001b[0;34m,\u001b[0m\u001b[0;34m\u001b[0m\u001b[0;34m\u001b[0m\u001b[0m\n\u001b[0m\u001b[1;32m   4175\u001b[0m         )\n\u001b[1;32m   4176\u001b[0m \u001b[0;34m\u001b[0m\u001b[0m\n",
            "\u001b[0;32m/usr/local/lib/python3.7/dist-packages/pandas/core/generic.py\u001b[0m in \u001b[0;36mdrop\u001b[0;34m(self, labels, axis, index, columns, level, inplace, errors)\u001b[0m\n\u001b[1;32m   3887\u001b[0m         \u001b[0;32mfor\u001b[0m \u001b[0maxis\u001b[0m\u001b[0;34m,\u001b[0m \u001b[0mlabels\u001b[0m \u001b[0;32min\u001b[0m \u001b[0maxes\u001b[0m\u001b[0;34m.\u001b[0m\u001b[0mitems\u001b[0m\u001b[0;34m(\u001b[0m\u001b[0;34m)\u001b[0m\u001b[0;34m:\u001b[0m\u001b[0;34m\u001b[0m\u001b[0;34m\u001b[0m\u001b[0m\n\u001b[1;32m   3888\u001b[0m             \u001b[0;32mif\u001b[0m \u001b[0mlabels\u001b[0m \u001b[0;32mis\u001b[0m \u001b[0;32mnot\u001b[0m \u001b[0;32mNone\u001b[0m\u001b[0;34m:\u001b[0m\u001b[0;34m\u001b[0m\u001b[0;34m\u001b[0m\u001b[0m\n\u001b[0;32m-> 3889\u001b[0;31m                 \u001b[0mobj\u001b[0m \u001b[0;34m=\u001b[0m \u001b[0mobj\u001b[0m\u001b[0;34m.\u001b[0m\u001b[0m_drop_axis\u001b[0m\u001b[0;34m(\u001b[0m\u001b[0mlabels\u001b[0m\u001b[0;34m,\u001b[0m \u001b[0maxis\u001b[0m\u001b[0;34m,\u001b[0m \u001b[0mlevel\u001b[0m\u001b[0;34m=\u001b[0m\u001b[0mlevel\u001b[0m\u001b[0;34m,\u001b[0m \u001b[0merrors\u001b[0m\u001b[0;34m=\u001b[0m\u001b[0merrors\u001b[0m\u001b[0;34m)\u001b[0m\u001b[0;34m\u001b[0m\u001b[0;34m\u001b[0m\u001b[0m\n\u001b[0m\u001b[1;32m   3890\u001b[0m \u001b[0;34m\u001b[0m\u001b[0m\n\u001b[1;32m   3891\u001b[0m         \u001b[0;32mif\u001b[0m \u001b[0minplace\u001b[0m\u001b[0;34m:\u001b[0m\u001b[0;34m\u001b[0m\u001b[0;34m\u001b[0m\u001b[0m\n",
            "\u001b[0;32m/usr/local/lib/python3.7/dist-packages/pandas/core/generic.py\u001b[0m in \u001b[0;36m_drop_axis\u001b[0;34m(self, labels, axis, level, errors)\u001b[0m\n\u001b[1;32m   3921\u001b[0m                 \u001b[0mnew_axis\u001b[0m \u001b[0;34m=\u001b[0m \u001b[0maxis\u001b[0m\u001b[0;34m.\u001b[0m\u001b[0mdrop\u001b[0m\u001b[0;34m(\u001b[0m\u001b[0mlabels\u001b[0m\u001b[0;34m,\u001b[0m \u001b[0mlevel\u001b[0m\u001b[0;34m=\u001b[0m\u001b[0mlevel\u001b[0m\u001b[0;34m,\u001b[0m \u001b[0merrors\u001b[0m\u001b[0;34m=\u001b[0m\u001b[0merrors\u001b[0m\u001b[0;34m)\u001b[0m\u001b[0;34m\u001b[0m\u001b[0;34m\u001b[0m\u001b[0m\n\u001b[1;32m   3922\u001b[0m             \u001b[0;32melse\u001b[0m\u001b[0;34m:\u001b[0m\u001b[0;34m\u001b[0m\u001b[0;34m\u001b[0m\u001b[0m\n\u001b[0;32m-> 3923\u001b[0;31m                 \u001b[0mnew_axis\u001b[0m \u001b[0;34m=\u001b[0m \u001b[0maxis\u001b[0m\u001b[0;34m.\u001b[0m\u001b[0mdrop\u001b[0m\u001b[0;34m(\u001b[0m\u001b[0mlabels\u001b[0m\u001b[0;34m,\u001b[0m \u001b[0merrors\u001b[0m\u001b[0;34m=\u001b[0m\u001b[0merrors\u001b[0m\u001b[0;34m)\u001b[0m\u001b[0;34m\u001b[0m\u001b[0;34m\u001b[0m\u001b[0m\n\u001b[0m\u001b[1;32m   3924\u001b[0m             \u001b[0mresult\u001b[0m \u001b[0;34m=\u001b[0m \u001b[0mself\u001b[0m\u001b[0;34m.\u001b[0m\u001b[0mreindex\u001b[0m\u001b[0;34m(\u001b[0m\u001b[0;34m**\u001b[0m\u001b[0;34m{\u001b[0m\u001b[0maxis_name\u001b[0m\u001b[0;34m:\u001b[0m \u001b[0mnew_axis\u001b[0m\u001b[0;34m}\u001b[0m\u001b[0;34m)\u001b[0m\u001b[0;34m\u001b[0m\u001b[0;34m\u001b[0m\u001b[0m\n\u001b[1;32m   3925\u001b[0m \u001b[0;34m\u001b[0m\u001b[0m\n",
            "\u001b[0;32m/usr/local/lib/python3.7/dist-packages/pandas/core/indexes/base.py\u001b[0m in \u001b[0;36mdrop\u001b[0;34m(self, labels, errors)\u001b[0m\n\u001b[1;32m   5285\u001b[0m         \u001b[0;32mif\u001b[0m \u001b[0mmask\u001b[0m\u001b[0;34m.\u001b[0m\u001b[0many\u001b[0m\u001b[0;34m(\u001b[0m\u001b[0;34m)\u001b[0m\u001b[0;34m:\u001b[0m\u001b[0;34m\u001b[0m\u001b[0;34m\u001b[0m\u001b[0m\n\u001b[1;32m   5286\u001b[0m             \u001b[0;32mif\u001b[0m \u001b[0merrors\u001b[0m \u001b[0;34m!=\u001b[0m \u001b[0;34m\"ignore\"\u001b[0m\u001b[0;34m:\u001b[0m\u001b[0;34m\u001b[0m\u001b[0;34m\u001b[0m\u001b[0m\n\u001b[0;32m-> 5287\u001b[0;31m                 \u001b[0;32mraise\u001b[0m \u001b[0mKeyError\u001b[0m\u001b[0;34m(\u001b[0m\u001b[0;34mf\"{labels[mask]} not found in axis\"\u001b[0m\u001b[0;34m)\u001b[0m\u001b[0;34m\u001b[0m\u001b[0;34m\u001b[0m\u001b[0m\n\u001b[0m\u001b[1;32m   5288\u001b[0m             \u001b[0mindexer\u001b[0m \u001b[0;34m=\u001b[0m \u001b[0mindexer\u001b[0m\u001b[0;34m[\u001b[0m\u001b[0;34m~\u001b[0m\u001b[0mmask\u001b[0m\u001b[0;34m]\u001b[0m\u001b[0;34m\u001b[0m\u001b[0;34m\u001b[0m\u001b[0m\n\u001b[1;32m   5289\u001b[0m         \u001b[0;32mreturn\u001b[0m \u001b[0mself\u001b[0m\u001b[0;34m.\u001b[0m\u001b[0mdelete\u001b[0m\u001b[0;34m(\u001b[0m\u001b[0mindexer\u001b[0m\u001b[0;34m)\u001b[0m\u001b[0;34m\u001b[0m\u001b[0;34m\u001b[0m\u001b[0m\n",
            "\u001b[0;31mKeyError\u001b[0m: \"['Property ID' 'Property Type'] not found in axis\""
          ]
        }
      ]
    },
    {
      "cell_type": "code",
      "metadata": {
        "colab": {
          "base_uri": "https://localhost:8080/"
        },
        "id": "BYfbqxDBkrsD",
        "outputId": "80d2d431-8db3-489d-eb48-826f1363638e"
      },
      "source": [
        "dtrain.info()"
      ],
      "execution_count": null,
      "outputs": [
        {
          "output_type": "stream",
          "text": [
            "<class 'pandas.core.frame.DataFrame'>\n",
            "RangeIndex: 30000 entries, 0 to 29999\n",
            "Data columns (total 11 columns):\n",
            " #   Column                       Non-Null Count  Dtype  \n",
            "---  ------                       --------------  -----  \n",
            " 0   Income (USD)                 30000 non-null  float64\n",
            " 1   Income Stability             30000 non-null  float64\n",
            " 2   Loan Amount Request (USD)    30000 non-null  float64\n",
            " 3   Current Loan Expenses (USD)  30000 non-null  float64\n",
            " 4   Expense Type 1               30000 non-null  int64  \n",
            " 5   Expense Type 2               30000 non-null  int64  \n",
            " 6   Dependents                   30000 non-null  float64\n",
            " 7   Credit Score                 30000 non-null  float64\n",
            " 8   No. of Defaults              30000 non-null  int64  \n",
            " 9   Has Active Credit Card       30000 non-null  float64\n",
            " 10  Loan Sanction Amount (USD)   29660 non-null  float64\n",
            "dtypes: float64(8), int64(3)\n",
            "memory usage: 2.5 MB\n"
          ],
          "name": "stdout"
        }
      ]
    },
    {
      "cell_type": "code",
      "metadata": {
        "colab": {
          "base_uri": "https://localhost:8080/"
        },
        "id": "KEdsViVYMa5z",
        "outputId": "de990f82-cc48-48b5-bc6e-5c454d2be1fe"
      },
      "source": [
        "dtrain.isnull().any()\n",
        "\n"
      ],
      "execution_count": null,
      "outputs": [
        {
          "output_type": "execute_result",
          "data": {
            "text/plain": [
              "Income (USD)                   False\n",
              "Income Stability               False\n",
              "Loan Amount Request (USD)      False\n",
              "Current Loan Expenses (USD)    False\n",
              "Expense Type 1                 False\n",
              "Expense Type 2                 False\n",
              "Dependents                     False\n",
              "Credit Score                   False\n",
              "No. of Defaults                False\n",
              "Has Active Credit Card         False\n",
              "Loan Sanction Amount (USD)      True\n",
              "dtype: bool"
            ]
          },
          "metadata": {
            "tags": []
          },
          "execution_count": 231
        }
      ]
    },
    {
      "cell_type": "code",
      "metadata": {
        "colab": {
          "base_uri": "https://localhost:8080/"
        },
        "id": "VZiW9MC_UIHC",
        "outputId": "eec8308e-55f6-477f-ab63-838fd4bc0f80"
      },
      "source": [
        "dtrain.isna().any()"
      ],
      "execution_count": null,
      "outputs": [
        {
          "output_type": "execute_result",
          "data": {
            "text/plain": [
              "Income (USD)                   False\n",
              "Income Stability               False\n",
              "Loan Amount Request (USD)      False\n",
              "Current Loan Expenses (USD)    False\n",
              "Expense Type 1                 False\n",
              "Expense Type 2                 False\n",
              "Dependents                     False\n",
              "Credit Score                   False\n",
              "No. of Defaults                False\n",
              "Has Active Credit Card         False\n",
              "Loan Sanction Amount (USD)      True\n",
              "dtype: bool"
            ]
          },
          "metadata": {
            "tags": []
          },
          "execution_count": 232
        }
      ]
    },
    {
      "cell_type": "code",
      "metadata": {
        "colab": {
          "base_uri": "https://localhost:8080/",
          "height": 255
        },
        "id": "k3SsUiF6RDlc",
        "outputId": "eae4cf3d-b1e2-43ff-a0ca-ae2d37b5495c"
      },
      "source": [
        "dtrain.head()"
      ],
      "execution_count": null,
      "outputs": [
        {
          "output_type": "execute_result",
          "data": {
            "text/html": [
              "<div>\n",
              "<style scoped>\n",
              "    .dataframe tbody tr th:only-of-type {\n",
              "        vertical-align: middle;\n",
              "    }\n",
              "\n",
              "    .dataframe tbody tr th {\n",
              "        vertical-align: top;\n",
              "    }\n",
              "\n",
              "    .dataframe thead th {\n",
              "        text-align: right;\n",
              "    }\n",
              "</style>\n",
              "<table border=\"1\" class=\"dataframe\">\n",
              "  <thead>\n",
              "    <tr style=\"text-align: right;\">\n",
              "      <th></th>\n",
              "      <th>Income (USD)</th>\n",
              "      <th>Income Stability</th>\n",
              "      <th>Loan Amount Request (USD)</th>\n",
              "      <th>Current Loan Expenses (USD)</th>\n",
              "      <th>Expense Type 1</th>\n",
              "      <th>Expense Type 2</th>\n",
              "      <th>Dependents</th>\n",
              "      <th>Credit Score</th>\n",
              "      <th>No. of Defaults</th>\n",
              "      <th>Has Active Credit Card</th>\n",
              "      <th>Loan Sanction Amount (USD)</th>\n",
              "    </tr>\n",
              "  </thead>\n",
              "  <tbody>\n",
              "    <tr>\n",
              "      <th>0</th>\n",
              "      <td>1933.05</td>\n",
              "      <td>0.0</td>\n",
              "      <td>72809.58</td>\n",
              "      <td>241.08</td>\n",
              "      <td>0</td>\n",
              "      <td>0</td>\n",
              "      <td>3.0</td>\n",
              "      <td>809.44</td>\n",
              "      <td>0</td>\n",
              "      <td>0.0</td>\n",
              "      <td>54607.18</td>\n",
              "    </tr>\n",
              "    <tr>\n",
              "      <th>1</th>\n",
              "      <td>4952.91</td>\n",
              "      <td>0.0</td>\n",
              "      <td>46837.47</td>\n",
              "      <td>495.81</td>\n",
              "      <td>0</td>\n",
              "      <td>1</td>\n",
              "      <td>1.0</td>\n",
              "      <td>780.40</td>\n",
              "      <td>0</td>\n",
              "      <td>0.0</td>\n",
              "      <td>37469.98</td>\n",
              "    </tr>\n",
              "    <tr>\n",
              "      <th>2</th>\n",
              "      <td>988.19</td>\n",
              "      <td>1.0</td>\n",
              "      <td>45593.04</td>\n",
              "      <td>171.95</td>\n",
              "      <td>0</td>\n",
              "      <td>1</td>\n",
              "      <td>1.0</td>\n",
              "      <td>833.15</td>\n",
              "      <td>0</td>\n",
              "      <td>0.0</td>\n",
              "      <td>36474.43</td>\n",
              "    </tr>\n",
              "    <tr>\n",
              "      <th>3</th>\n",
              "      <td>1608.43</td>\n",
              "      <td>1.0</td>\n",
              "      <td>80057.92</td>\n",
              "      <td>298.54</td>\n",
              "      <td>0</td>\n",
              "      <td>1</td>\n",
              "      <td>2.0</td>\n",
              "      <td>832.70</td>\n",
              "      <td>1</td>\n",
              "      <td>0.0</td>\n",
              "      <td>56040.54</td>\n",
              "    </tr>\n",
              "    <tr>\n",
              "      <th>4</th>\n",
              "      <td>2614.77</td>\n",
              "      <td>0.0</td>\n",
              "      <td>113858.89</td>\n",
              "      <td>491.41</td>\n",
              "      <td>0</td>\n",
              "      <td>1</td>\n",
              "      <td>0.0</td>\n",
              "      <td>745.55</td>\n",
              "      <td>1</td>\n",
              "      <td>1.0</td>\n",
              "      <td>74008.28</td>\n",
              "    </tr>\n",
              "  </tbody>\n",
              "</table>\n",
              "</div>"
            ],
            "text/plain": [
              "   Income (USD)  ...  Loan Sanction Amount (USD)\n",
              "0       1933.05  ...                    54607.18\n",
              "1       4952.91  ...                    37469.98\n",
              "2        988.19  ...                    36474.43\n",
              "3       1608.43  ...                    56040.54\n",
              "4       2614.77  ...                    74008.28\n",
              "\n",
              "[5 rows x 11 columns]"
            ]
          },
          "metadata": {
            "tags": []
          },
          "execution_count": 233
        }
      ]
    },
    {
      "cell_type": "code",
      "metadata": {
        "id": "UBZhCe-9RWAT"
      },
      "source": [
        "#dtrain[\"Loan Sanction Amount (USD)\"] = dtrain[\"Loan Sanction Amount (USD)\"].map(lambda x: x*1000)\n"
      ],
      "execution_count": null,
      "outputs": []
    },
    {
      "cell_type": "code",
      "metadata": {
        "colab": {
          "base_uri": "https://localhost:8080/",
          "height": 255
        },
        "id": "q8D1RckQRg7T",
        "outputId": "e9ce2af6-204d-46f8-e1b9-995b17a42476"
      },
      "source": [
        "dtrain.head()"
      ],
      "execution_count": null,
      "outputs": [
        {
          "output_type": "execute_result",
          "data": {
            "text/html": [
              "<div>\n",
              "<style scoped>\n",
              "    .dataframe tbody tr th:only-of-type {\n",
              "        vertical-align: middle;\n",
              "    }\n",
              "\n",
              "    .dataframe tbody tr th {\n",
              "        vertical-align: top;\n",
              "    }\n",
              "\n",
              "    .dataframe thead th {\n",
              "        text-align: right;\n",
              "    }\n",
              "</style>\n",
              "<table border=\"1\" class=\"dataframe\">\n",
              "  <thead>\n",
              "    <tr style=\"text-align: right;\">\n",
              "      <th></th>\n",
              "      <th>Income (USD)</th>\n",
              "      <th>Income Stability</th>\n",
              "      <th>Loan Amount Request (USD)</th>\n",
              "      <th>Current Loan Expenses (USD)</th>\n",
              "      <th>Expense Type 1</th>\n",
              "      <th>Expense Type 2</th>\n",
              "      <th>Dependents</th>\n",
              "      <th>Credit Score</th>\n",
              "      <th>No. of Defaults</th>\n",
              "      <th>Has Active Credit Card</th>\n",
              "      <th>Loan Sanction Amount (USD)</th>\n",
              "    </tr>\n",
              "  </thead>\n",
              "  <tbody>\n",
              "    <tr>\n",
              "      <th>0</th>\n",
              "      <td>1933.05</td>\n",
              "      <td>0.0</td>\n",
              "      <td>72809.58</td>\n",
              "      <td>241.08</td>\n",
              "      <td>0</td>\n",
              "      <td>0</td>\n",
              "      <td>3.0</td>\n",
              "      <td>809.44</td>\n",
              "      <td>0</td>\n",
              "      <td>0.0</td>\n",
              "      <td>54607.18</td>\n",
              "    </tr>\n",
              "    <tr>\n",
              "      <th>1</th>\n",
              "      <td>4952.91</td>\n",
              "      <td>0.0</td>\n",
              "      <td>46837.47</td>\n",
              "      <td>495.81</td>\n",
              "      <td>0</td>\n",
              "      <td>1</td>\n",
              "      <td>1.0</td>\n",
              "      <td>780.40</td>\n",
              "      <td>0</td>\n",
              "      <td>0.0</td>\n",
              "      <td>37469.98</td>\n",
              "    </tr>\n",
              "    <tr>\n",
              "      <th>2</th>\n",
              "      <td>988.19</td>\n",
              "      <td>1.0</td>\n",
              "      <td>45593.04</td>\n",
              "      <td>171.95</td>\n",
              "      <td>0</td>\n",
              "      <td>1</td>\n",
              "      <td>1.0</td>\n",
              "      <td>833.15</td>\n",
              "      <td>0</td>\n",
              "      <td>0.0</td>\n",
              "      <td>36474.43</td>\n",
              "    </tr>\n",
              "    <tr>\n",
              "      <th>3</th>\n",
              "      <td>1608.43</td>\n",
              "      <td>1.0</td>\n",
              "      <td>80057.92</td>\n",
              "      <td>298.54</td>\n",
              "      <td>0</td>\n",
              "      <td>1</td>\n",
              "      <td>2.0</td>\n",
              "      <td>832.70</td>\n",
              "      <td>1</td>\n",
              "      <td>0.0</td>\n",
              "      <td>56040.54</td>\n",
              "    </tr>\n",
              "    <tr>\n",
              "      <th>4</th>\n",
              "      <td>2614.77</td>\n",
              "      <td>0.0</td>\n",
              "      <td>113858.89</td>\n",
              "      <td>491.41</td>\n",
              "      <td>0</td>\n",
              "      <td>1</td>\n",
              "      <td>0.0</td>\n",
              "      <td>745.55</td>\n",
              "      <td>1</td>\n",
              "      <td>1.0</td>\n",
              "      <td>74008.28</td>\n",
              "    </tr>\n",
              "  </tbody>\n",
              "</table>\n",
              "</div>"
            ],
            "text/plain": [
              "   Income (USD)  ...  Loan Sanction Amount (USD)\n",
              "0       1933.05  ...                    54607.18\n",
              "1       4952.91  ...                    37469.98\n",
              "2        988.19  ...                    36474.43\n",
              "3       1608.43  ...                    56040.54\n",
              "4       2614.77  ...                    74008.28\n",
              "\n",
              "[5 rows x 11 columns]"
            ]
          },
          "metadata": {
            "tags": []
          },
          "execution_count": 234
        }
      ]
    },
    {
      "cell_type": "code",
      "metadata": {
        "id": "HVF016eyU4mx"
      },
      "source": [
        "dtrain[\"Loan Amount Request (USD)\"] = dtrain[\"Loan Amount Request (USD)\"].map(lambda x: x/1000)"
      ],
      "execution_count": null,
      "outputs": []
    },
    {
      "cell_type": "code",
      "metadata": {
        "id": "8iDCZbE1VT1P"
      },
      "source": [
        "dtrain =dtrain.dropna(0)"
      ],
      "execution_count": null,
      "outputs": []
    },
    {
      "cell_type": "code",
      "metadata": {
        "id": "lfQZUtw7I71F"
      },
      "source": [
        "Y= dtrain[\"Loan Sanction Amount (USD)\"]\n",
        "X = dtrain.drop([\"Loan Sanction Amount (USD)\"], axis=1)\n",
        "\n",
        "\n"
      ],
      "execution_count": null,
      "outputs": []
    },
    {
      "cell_type": "code",
      "metadata": {
        "id": "rvhlheLDim5b"
      },
      "source": [
        "#X = X.fillna(0)"
      ],
      "execution_count": null,
      "outputs": []
    },
    {
      "cell_type": "code",
      "metadata": {
        "colab": {
          "base_uri": "https://localhost:8080/"
        },
        "id": "xsqB6FXgKxfL",
        "outputId": "c1db37de-de82-4f29-ea9b-7bb8bcd4dabb"
      },
      "source": [
        "from sklearn.model_selection import train_test_split\n",
        "X_train, X_test, y_train, y_test = train_test_split(X, Y, test_size=0.20, random_state=0)\n",
        "print(X_train.shape)\n",
        "print(X_test.shape)\n",
        "print(y_train.shape)\n",
        "print(y_test.shape)"
      ],
      "execution_count": null,
      "outputs": [
        {
          "output_type": "stream",
          "text": [
            "(23728, 10)\n",
            "(5932, 10)\n",
            "(23728,)\n",
            "(5932,)\n"
          ],
          "name": "stdout"
        }
      ]
    },
    {
      "cell_type": "code",
      "metadata": {
        "colab": {
          "base_uri": "https://localhost:8080/"
        },
        "id": "36oqvdmSLeaZ",
        "outputId": "741358c7-0b45-44a4-bc59-9dcc287aae4d"
      },
      "source": [
        "y_train.values"
      ],
      "execution_count": null,
      "outputs": [
        {
          "output_type": "execute_result",
          "data": {
            "text/plain": [
              "array([ 78815.63,  55470.72, 101505.89, ...,  25742.5 ,      0.  ,\n",
              "        59941.83])"
            ]
          },
          "metadata": {
            "tags": []
          },
          "execution_count": 246
        }
      ]
    },
    {
      "cell_type": "code",
      "metadata": {
        "id": "I0ywrNV3LmXT"
      },
      "source": [
        "from sklearn.preprocessing import StandardScaler\n",
        "sc_X= StandardScaler()\n",
        "X_train = sc_X.fit_transform(X_train)\n",
        "X_test = sc_X.fit_transform(X_test)"
      ],
      "execution_count": null,
      "outputs": []
    },
    {
      "cell_type": "code",
      "metadata": {
        "colab": {
          "base_uri": "https://localhost:8080/"
        },
        "id": "92s9hYSGQKkj",
        "outputId": "bb66bf75-7b66-4dac-ce25-9d544e45d93d"
      },
      "source": [
        "from sklearn.linear_model import LinearRegression\n",
        "regressor = LinearRegression()\n",
        "regressor.fit(X_train,y_train)"
      ],
      "execution_count": null,
      "outputs": [
        {
          "output_type": "execute_result",
          "data": {
            "text/plain": [
              "LinearRegression(copy_X=True, fit_intercept=True, n_jobs=None, normalize=False)"
            ]
          },
          "metadata": {
            "tags": []
          },
          "execution_count": 248
        }
      ]
    },
    {
      "cell_type": "code",
      "metadata": {
        "id": "z8XM308FVDxM"
      },
      "source": [
        "from sklearn.linear_model import LinearRegression\n",
        "regressor = LinearRegression()\n",
        "regressor.fit(X_train,y_train)\n",
        "\n",
        "y_pred = regressor.predict(X_test)"
      ],
      "execution_count": null,
      "outputs": []
    },
    {
      "cell_type": "code",
      "metadata": {
        "id": "ylz0ivQERyo5"
      },
      "source": [
        "y_pred = regressor.predict(X_test)"
      ],
      "execution_count": null,
      "outputs": []
    },
    {
      "cell_type": "code",
      "metadata": {
        "id": "oL3tFa2qR896"
      },
      "source": [
        "score = regressor.score(X_test, y_test)"
      ],
      "execution_count": null,
      "outputs": []
    },
    {
      "cell_type": "code",
      "metadata": {
        "colab": {
          "base_uri": "https://localhost:8080/"
        },
        "id": "nvW2j5J6SJ3x",
        "outputId": "c2d01abe-855b-4d8c-ec44-07c86f1da6d4"
      },
      "source": [
        "print(score)"
      ],
      "execution_count": null,
      "outputs": [
        {
          "output_type": "stream",
          "text": [
            "0.6015627345337637\n"
          ],
          "name": "stdout"
        }
      ]
    },
    {
      "cell_type": "code",
      "metadata": {
        "colab": {
          "base_uri": "https://localhost:8080/"
        },
        "id": "Oemn4IkKSnct",
        "outputId": "25aed021-373d-43f6-881a-d7e7a5f91d4d"
      },
      "source": [
        "print(y_pred)"
      ],
      "execution_count": null,
      "outputs": [
        {
          "output_type": "stream",
          "text": [
            "[ 27675.79184883  53482.73582915 252991.90330406 ...  14454.40467122\n",
            "   6333.97053318   -964.38113143]\n"
          ],
          "name": "stdout"
        }
      ]
    },
    {
      "cell_type": "code",
      "metadata": {
        "id": "Ad7IPzioTKpp"
      },
      "source": [
        "dtrain['Predictions']= y_pred"
      ],
      "execution_count": null,
      "outputs": []
    },
    {
      "cell_type": "code",
      "metadata": {
        "id": "LtRnVso1UoPo"
      },
      "source": [
        "dtrain.to_csv('y_pred2.csv')"
      ],
      "execution_count": null,
      "outputs": []
    },
    {
      "cell_type": "code",
      "metadata": {
        "id": "uTgT5YnCWYQK"
      },
      "source": [
        "#predicting for dataset\n",
        "dataset = dataset.drop(['Gender','Name'],axis =1)"
      ],
      "execution_count": null,
      "outputs": []
    },
    {
      "cell_type": "code",
      "metadata": {
        "colab": {
          "base_uri": "https://localhost:8080/",
          "height": 343
        },
        "id": "ElfbyQ3iWrwY",
        "outputId": "f67fadf0-7aaa-4cf3-edd6-e1f79b024a30"
      },
      "source": [
        "dataset.head()\n"
      ],
      "execution_count": null,
      "outputs": [
        {
          "output_type": "execute_result",
          "data": {
            "text/html": [
              "<div>\n",
              "<style scoped>\n",
              "    .dataframe tbody tr th:only-of-type {\n",
              "        vertical-align: middle;\n",
              "    }\n",
              "\n",
              "    .dataframe tbody tr th {\n",
              "        vertical-align: top;\n",
              "    }\n",
              "\n",
              "    .dataframe thead th {\n",
              "        text-align: right;\n",
              "    }\n",
              "</style>\n",
              "<table border=\"1\" class=\"dataframe\">\n",
              "  <thead>\n",
              "    <tr style=\"text-align: right;\">\n",
              "      <th></th>\n",
              "      <th>Customer ID</th>\n",
              "      <th>Age</th>\n",
              "      <th>Income (USD)</th>\n",
              "      <th>Income Stability</th>\n",
              "      <th>Profession</th>\n",
              "      <th>Type of Employment</th>\n",
              "      <th>Location</th>\n",
              "      <th>Loan Amount Request (USD)</th>\n",
              "      <th>Current Loan Expenses (USD)</th>\n",
              "      <th>Expense Type 1</th>\n",
              "      <th>Expense Type 2</th>\n",
              "      <th>Dependents</th>\n",
              "      <th>Credit Score</th>\n",
              "      <th>No. of Defaults</th>\n",
              "      <th>Has Active Credit Card</th>\n",
              "      <th>Property ID</th>\n",
              "      <th>Property Age</th>\n",
              "      <th>Property Type</th>\n",
              "      <th>Property Location</th>\n",
              "      <th>Co-Applicant</th>\n",
              "      <th>Property Price</th>\n",
              "    </tr>\n",
              "  </thead>\n",
              "  <tbody>\n",
              "    <tr>\n",
              "      <th>0</th>\n",
              "      <td>C-26247</td>\n",
              "      <td>47</td>\n",
              "      <td>3472.69</td>\n",
              "      <td>Low</td>\n",
              "      <td>Commercial associate</td>\n",
              "      <td>Managers</td>\n",
              "      <td>Semi-Urban</td>\n",
              "      <td>137088.98</td>\n",
              "      <td>396.72</td>\n",
              "      <td>N</td>\n",
              "      <td>N</td>\n",
              "      <td>2.0</td>\n",
              "      <td>799.14</td>\n",
              "      <td>0</td>\n",
              "      <td>Unpossessed</td>\n",
              "      <td>843</td>\n",
              "      <td>3472.69</td>\n",
              "      <td>2</td>\n",
              "      <td>Urban</td>\n",
              "      <td>1</td>\n",
              "      <td>236644.5</td>\n",
              "    </tr>\n",
              "    <tr>\n",
              "      <th>1</th>\n",
              "      <td>C-35067</td>\n",
              "      <td>57</td>\n",
              "      <td>1184.84</td>\n",
              "      <td>Low</td>\n",
              "      <td>Working</td>\n",
              "      <td>Sales staff</td>\n",
              "      <td>Rural</td>\n",
              "      <td>104771.59</td>\n",
              "      <td>463.76</td>\n",
              "      <td>Y</td>\n",
              "      <td>Y</td>\n",
              "      <td>2.0</td>\n",
              "      <td>833.31</td>\n",
              "      <td>0</td>\n",
              "      <td>Unpossessed</td>\n",
              "      <td>22</td>\n",
              "      <td>1184.84</td>\n",
              "      <td>1</td>\n",
              "      <td>Rural</td>\n",
              "      <td>1</td>\n",
              "      <td>142357.3</td>\n",
              "    </tr>\n",
              "    <tr>\n",
              "      <th>2</th>\n",
              "      <td>C-34590</td>\n",
              "      <td>52</td>\n",
              "      <td>1266.27</td>\n",
              "      <td>Low</td>\n",
              "      <td>Working</td>\n",
              "      <td>NaN</td>\n",
              "      <td>Semi-Urban</td>\n",
              "      <td>176684.91</td>\n",
              "      <td>493.15</td>\n",
              "      <td>N</td>\n",
              "      <td>Y</td>\n",
              "      <td>3.0</td>\n",
              "      <td>627.44</td>\n",
              "      <td>0</td>\n",
              "      <td>Unpossessed</td>\n",
              "      <td>1</td>\n",
              "      <td>1266.27</td>\n",
              "      <td>1</td>\n",
              "      <td>Urban</td>\n",
              "      <td>1</td>\n",
              "      <td>300991.24</td>\n",
              "    </tr>\n",
              "    <tr>\n",
              "      <th>3</th>\n",
              "      <td>C-16668</td>\n",
              "      <td>65</td>\n",
              "      <td>1369.72</td>\n",
              "      <td>High</td>\n",
              "      <td>Pensioner</td>\n",
              "      <td>NaN</td>\n",
              "      <td>Rural</td>\n",
              "      <td>97009.18</td>\n",
              "      <td>446.15</td>\n",
              "      <td>N</td>\n",
              "      <td>Y</td>\n",
              "      <td>2.0</td>\n",
              "      <td>833.20</td>\n",
              "      <td>0</td>\n",
              "      <td>Inactive</td>\n",
              "      <td>730</td>\n",
              "      <td>1369.72</td>\n",
              "      <td>1</td>\n",
              "      <td>Semi-Urban</td>\n",
              "      <td>0</td>\n",
              "      <td>125612.1</td>\n",
              "    </tr>\n",
              "    <tr>\n",
              "      <th>4</th>\n",
              "      <td>C-12196</td>\n",
              "      <td>60</td>\n",
              "      <td>1939.23</td>\n",
              "      <td>High</td>\n",
              "      <td>Pensioner</td>\n",
              "      <td>NaN</td>\n",
              "      <td>Urban</td>\n",
              "      <td>109980.00</td>\n",
              "      <td>370.10</td>\n",
              "      <td>N</td>\n",
              "      <td>N</td>\n",
              "      <td>NaN</td>\n",
              "      <td>NaN</td>\n",
              "      <td>0</td>\n",
              "      <td>NaN</td>\n",
              "      <td>356</td>\n",
              "      <td>1939.23</td>\n",
              "      <td>4</td>\n",
              "      <td>Semi-Urban</td>\n",
              "      <td>1</td>\n",
              "      <td>180908.0</td>\n",
              "    </tr>\n",
              "  </tbody>\n",
              "</table>\n",
              "</div>"
            ],
            "text/plain": [
              "  Customer ID  Age  Income (USD)  ... Property Location Co-Applicant Property Price\n",
              "0     C-26247   47       3472.69  ...             Urban            1       236644.5\n",
              "1     C-35067   57       1184.84  ...             Rural            1       142357.3\n",
              "2     C-34590   52       1266.27  ...             Urban            1      300991.24\n",
              "3     C-16668   65       1369.72  ...        Semi-Urban            0       125612.1\n",
              "4     C-12196   60       1939.23  ...        Semi-Urban            1       180908.0\n",
              "\n",
              "[5 rows x 21 columns]"
            ]
          },
          "metadata": {
            "tags": []
          },
          "execution_count": 276
        }
      ]
    },
    {
      "cell_type": "code",
      "metadata": {
        "colab": {
          "base_uri": "https://localhost:8080/"
        },
        "id": "hkZlAfqYW8TS",
        "outputId": "e6168ba1-2bfc-4ae3-edb8-b2eb55e1f222"
      },
      "source": [
        "dataset['Income Stability'] = dataset['Income Stability'].fillna(0)\n",
        "dataset[\"Income (USD)\"].fillna(dataset[\"Income (USD)\"].mode()[0], inplace=True)\n",
        "dataset = dataset.drop(['Type of Employment','Location','Age'],axis=1)\n",
        "dataset = dataset.drop(['Co-Applicant'],axis=1)\n",
        "dataset = dataset.drop(['Property Location'],axis=1)\n",
        "dataset = dataset.drop(['Property Age'],axis=1)\n",
        "\n",
        "\n",
        "dataset['Current Loan Expenses (USD)'] = dataset['Current Loan Expenses (USD)'].fillna(0)\n",
        "dataset['Dependents'] = dataset['Dependents'].fillna(0)\n",
        "dataset[\"Credit Score\"].fillna(dataset[\"Credit Score\"].mode()[0], inplace=True)\n",
        "dataset[\"Property Price\"].fillna(dataset[\"Property Price\"].mode()[0], inplace=True)\n",
        "\n",
        "#dtrain = dtrain.drop(['Location'],axis=1)\n",
        "\n",
        "\n",
        "dataset['Has Active Credit Card'] = dataset['Has Active Credit Card'].fillna(0)\n",
        "dataset.isna().sum()"
      ],
      "execution_count": null,
      "outputs": [
        {
          "output_type": "execute_result",
          "data": {
            "text/plain": [
              "Customer ID                    0\n",
              "Income (USD)                   0\n",
              "Income Stability               0\n",
              "Profession                     0\n",
              "Loan Amount Request (USD)      0\n",
              "Current Loan Expenses (USD)    0\n",
              "Expense Type 1                 0\n",
              "Expense Type 2                 0\n",
              "Dependents                     0\n",
              "Credit Score                   0\n",
              "No. of Defaults                0\n",
              "Has Active Credit Card         0\n",
              "Property ID                    0\n",
              "Property Type                  0\n",
              "Property Price                 0\n",
              "dtype: int64"
            ]
          },
          "metadata": {
            "tags": []
          },
          "execution_count": 277
        }
      ]
    },
    {
      "cell_type": "code",
      "metadata": {
        "id": "57snyOj7XWKT"
      },
      "source": [
        "dataset = dataset.drop(['Profession'],axis=1)\n",
        "dataset = dataset.drop(['Property Price'],axis=1)\n"
      ],
      "execution_count": null,
      "outputs": []
    },
    {
      "cell_type": "code",
      "metadata": {
        "colab": {
          "base_uri": "https://localhost:8080/",
          "height": 306
        },
        "id": "MYjAxTSIXj68",
        "outputId": "ffae8f9d-60ea-4f7e-81d0-c022e671e288"
      },
      "source": [
        "#dataset = dataset.drop(['Expense Type 1','Expense Type 2'],axis=1)"
      ],
      "execution_count": null,
      "outputs": [
        {
          "output_type": "error",
          "ename": "KeyError",
          "evalue": "ignored",
          "traceback": [
            "\u001b[0;31m---------------------------------------------------------------------------\u001b[0m",
            "\u001b[0;31mKeyError\u001b[0m                                  Traceback (most recent call last)",
            "\u001b[0;32m<ipython-input-134-8d98dcffef54>\u001b[0m in \u001b[0;36m<module>\u001b[0;34m()\u001b[0m\n\u001b[0;32m----> 1\u001b[0;31m \u001b[0mdataset\u001b[0m \u001b[0;34m=\u001b[0m \u001b[0mdataset\u001b[0m\u001b[0;34m.\u001b[0m\u001b[0mdrop\u001b[0m\u001b[0;34m(\u001b[0m\u001b[0;34m[\u001b[0m\u001b[0;34m'Expense Type 1'\u001b[0m\u001b[0;34m,\u001b[0m\u001b[0;34m'Expense Type 2'\u001b[0m\u001b[0;34m]\u001b[0m\u001b[0;34m,\u001b[0m\u001b[0maxis\u001b[0m\u001b[0;34m=\u001b[0m\u001b[0;36m1\u001b[0m\u001b[0;34m)\u001b[0m\u001b[0;34m\u001b[0m\u001b[0;34m\u001b[0m\u001b[0m\n\u001b[0m",
            "\u001b[0;32m/usr/local/lib/python3.7/dist-packages/pandas/core/frame.py\u001b[0m in \u001b[0;36mdrop\u001b[0;34m(self, labels, axis, index, columns, level, inplace, errors)\u001b[0m\n\u001b[1;32m   4172\u001b[0m             \u001b[0mlevel\u001b[0m\u001b[0;34m=\u001b[0m\u001b[0mlevel\u001b[0m\u001b[0;34m,\u001b[0m\u001b[0;34m\u001b[0m\u001b[0;34m\u001b[0m\u001b[0m\n\u001b[1;32m   4173\u001b[0m             \u001b[0minplace\u001b[0m\u001b[0;34m=\u001b[0m\u001b[0minplace\u001b[0m\u001b[0;34m,\u001b[0m\u001b[0;34m\u001b[0m\u001b[0;34m\u001b[0m\u001b[0m\n\u001b[0;32m-> 4174\u001b[0;31m             \u001b[0merrors\u001b[0m\u001b[0;34m=\u001b[0m\u001b[0merrors\u001b[0m\u001b[0;34m,\u001b[0m\u001b[0;34m\u001b[0m\u001b[0;34m\u001b[0m\u001b[0m\n\u001b[0m\u001b[1;32m   4175\u001b[0m         )\n\u001b[1;32m   4176\u001b[0m \u001b[0;34m\u001b[0m\u001b[0m\n",
            "\u001b[0;32m/usr/local/lib/python3.7/dist-packages/pandas/core/generic.py\u001b[0m in \u001b[0;36mdrop\u001b[0;34m(self, labels, axis, index, columns, level, inplace, errors)\u001b[0m\n\u001b[1;32m   3887\u001b[0m         \u001b[0;32mfor\u001b[0m \u001b[0maxis\u001b[0m\u001b[0;34m,\u001b[0m \u001b[0mlabels\u001b[0m \u001b[0;32min\u001b[0m \u001b[0maxes\u001b[0m\u001b[0;34m.\u001b[0m\u001b[0mitems\u001b[0m\u001b[0;34m(\u001b[0m\u001b[0;34m)\u001b[0m\u001b[0;34m:\u001b[0m\u001b[0;34m\u001b[0m\u001b[0;34m\u001b[0m\u001b[0m\n\u001b[1;32m   3888\u001b[0m             \u001b[0;32mif\u001b[0m \u001b[0mlabels\u001b[0m \u001b[0;32mis\u001b[0m \u001b[0;32mnot\u001b[0m \u001b[0;32mNone\u001b[0m\u001b[0;34m:\u001b[0m\u001b[0;34m\u001b[0m\u001b[0;34m\u001b[0m\u001b[0m\n\u001b[0;32m-> 3889\u001b[0;31m                 \u001b[0mobj\u001b[0m \u001b[0;34m=\u001b[0m \u001b[0mobj\u001b[0m\u001b[0;34m.\u001b[0m\u001b[0m_drop_axis\u001b[0m\u001b[0;34m(\u001b[0m\u001b[0mlabels\u001b[0m\u001b[0;34m,\u001b[0m \u001b[0maxis\u001b[0m\u001b[0;34m,\u001b[0m \u001b[0mlevel\u001b[0m\u001b[0;34m=\u001b[0m\u001b[0mlevel\u001b[0m\u001b[0;34m,\u001b[0m \u001b[0merrors\u001b[0m\u001b[0;34m=\u001b[0m\u001b[0merrors\u001b[0m\u001b[0;34m)\u001b[0m\u001b[0;34m\u001b[0m\u001b[0;34m\u001b[0m\u001b[0m\n\u001b[0m\u001b[1;32m   3890\u001b[0m \u001b[0;34m\u001b[0m\u001b[0m\n\u001b[1;32m   3891\u001b[0m         \u001b[0;32mif\u001b[0m \u001b[0minplace\u001b[0m\u001b[0;34m:\u001b[0m\u001b[0;34m\u001b[0m\u001b[0;34m\u001b[0m\u001b[0m\n",
            "\u001b[0;32m/usr/local/lib/python3.7/dist-packages/pandas/core/generic.py\u001b[0m in \u001b[0;36m_drop_axis\u001b[0;34m(self, labels, axis, level, errors)\u001b[0m\n\u001b[1;32m   3921\u001b[0m                 \u001b[0mnew_axis\u001b[0m \u001b[0;34m=\u001b[0m \u001b[0maxis\u001b[0m\u001b[0;34m.\u001b[0m\u001b[0mdrop\u001b[0m\u001b[0;34m(\u001b[0m\u001b[0mlabels\u001b[0m\u001b[0;34m,\u001b[0m \u001b[0mlevel\u001b[0m\u001b[0;34m=\u001b[0m\u001b[0mlevel\u001b[0m\u001b[0;34m,\u001b[0m \u001b[0merrors\u001b[0m\u001b[0;34m=\u001b[0m\u001b[0merrors\u001b[0m\u001b[0;34m)\u001b[0m\u001b[0;34m\u001b[0m\u001b[0;34m\u001b[0m\u001b[0m\n\u001b[1;32m   3922\u001b[0m             \u001b[0;32melse\u001b[0m\u001b[0;34m:\u001b[0m\u001b[0;34m\u001b[0m\u001b[0;34m\u001b[0m\u001b[0m\n\u001b[0;32m-> 3923\u001b[0;31m                 \u001b[0mnew_axis\u001b[0m \u001b[0;34m=\u001b[0m \u001b[0maxis\u001b[0m\u001b[0;34m.\u001b[0m\u001b[0mdrop\u001b[0m\u001b[0;34m(\u001b[0m\u001b[0mlabels\u001b[0m\u001b[0;34m,\u001b[0m \u001b[0merrors\u001b[0m\u001b[0;34m=\u001b[0m\u001b[0merrors\u001b[0m\u001b[0;34m)\u001b[0m\u001b[0;34m\u001b[0m\u001b[0;34m\u001b[0m\u001b[0m\n\u001b[0m\u001b[1;32m   3924\u001b[0m             \u001b[0mresult\u001b[0m \u001b[0;34m=\u001b[0m \u001b[0mself\u001b[0m\u001b[0;34m.\u001b[0m\u001b[0mreindex\u001b[0m\u001b[0;34m(\u001b[0m\u001b[0;34m**\u001b[0m\u001b[0;34m{\u001b[0m\u001b[0maxis_name\u001b[0m\u001b[0;34m:\u001b[0m \u001b[0mnew_axis\u001b[0m\u001b[0;34m}\u001b[0m\u001b[0;34m)\u001b[0m\u001b[0;34m\u001b[0m\u001b[0;34m\u001b[0m\u001b[0m\n\u001b[1;32m   3925\u001b[0m \u001b[0;34m\u001b[0m\u001b[0m\n",
            "\u001b[0;32m/usr/local/lib/python3.7/dist-packages/pandas/core/indexes/base.py\u001b[0m in \u001b[0;36mdrop\u001b[0;34m(self, labels, errors)\u001b[0m\n\u001b[1;32m   5285\u001b[0m         \u001b[0;32mif\u001b[0m \u001b[0mmask\u001b[0m\u001b[0;34m.\u001b[0m\u001b[0many\u001b[0m\u001b[0;34m(\u001b[0m\u001b[0;34m)\u001b[0m\u001b[0;34m:\u001b[0m\u001b[0;34m\u001b[0m\u001b[0;34m\u001b[0m\u001b[0m\n\u001b[1;32m   5286\u001b[0m             \u001b[0;32mif\u001b[0m \u001b[0merrors\u001b[0m \u001b[0;34m!=\u001b[0m \u001b[0;34m\"ignore\"\u001b[0m\u001b[0;34m:\u001b[0m\u001b[0;34m\u001b[0m\u001b[0;34m\u001b[0m\u001b[0m\n\u001b[0;32m-> 5287\u001b[0;31m                 \u001b[0;32mraise\u001b[0m \u001b[0mKeyError\u001b[0m\u001b[0;34m(\u001b[0m\u001b[0;34mf\"{labels[mask]} not found in axis\"\u001b[0m\u001b[0;34m)\u001b[0m\u001b[0;34m\u001b[0m\u001b[0;34m\u001b[0m\u001b[0m\n\u001b[0m\u001b[1;32m   5288\u001b[0m             \u001b[0mindexer\u001b[0m \u001b[0;34m=\u001b[0m \u001b[0mindexer\u001b[0m\u001b[0;34m[\u001b[0m\u001b[0;34m~\u001b[0m\u001b[0mmask\u001b[0m\u001b[0;34m]\u001b[0m\u001b[0;34m\u001b[0m\u001b[0;34m\u001b[0m\u001b[0m\n\u001b[1;32m   5289\u001b[0m         \u001b[0;32mreturn\u001b[0m \u001b[0mself\u001b[0m\u001b[0;34m.\u001b[0m\u001b[0mdelete\u001b[0m\u001b[0;34m(\u001b[0m\u001b[0mindexer\u001b[0m\u001b[0;34m)\u001b[0m\u001b[0;34m\u001b[0m\u001b[0;34m\u001b[0m\u001b[0m\n",
            "\u001b[0;31mKeyError\u001b[0m: \"['Expense Type 1' 'Expense Type 2'] not found in axis\""
          ]
        }
      ]
    },
    {
      "cell_type": "code",
      "metadata": {
        "id": "503Qo8-9XkEm"
      },
      "source": [
        "dataset = dataset.drop(['Property ID','Property Type'],axis=1)"
      ],
      "execution_count": null,
      "outputs": []
    },
    {
      "cell_type": "code",
      "metadata": {
        "colab": {
          "base_uri": "https://localhost:8080/"
        },
        "id": "N3WsfDlwXkLT",
        "outputId": "fb76304a-2bf9-4f02-fd5f-0fc776f4456b"
      },
      "source": [
        "dataset.info()"
      ],
      "execution_count": null,
      "outputs": [
        {
          "output_type": "stream",
          "text": [
            "<class 'pandas.core.frame.DataFrame'>\n",
            "RangeIndex: 20000 entries, 0 to 19999\n",
            "Data columns (total 11 columns):\n",
            " #   Column                       Non-Null Count  Dtype  \n",
            "---  ------                       --------------  -----  \n",
            " 0   Customer ID                  20000 non-null  object \n",
            " 1   Income (USD)                 20000 non-null  float64\n",
            " 2   Income Stability             20000 non-null  object \n",
            " 3   Loan Amount Request (USD)    20000 non-null  float64\n",
            " 4   Current Loan Expenses (USD)  20000 non-null  float64\n",
            " 5   Expense Type 1               20000 non-null  object \n",
            " 6   Expense Type 2               20000 non-null  object \n",
            " 7   Dependents                   20000 non-null  float64\n",
            " 8   Credit Score                 20000 non-null  float64\n",
            " 9   No. of Defaults              20000 non-null  int64  \n",
            " 10  Has Active Credit Card       20000 non-null  object \n",
            "dtypes: float64(5), int64(1), object(5)\n",
            "memory usage: 1.7+ MB\n"
          ],
          "name": "stdout"
        }
      ]
    },
    {
      "cell_type": "code",
      "metadata": {
        "id": "MK7X2rEeXtS1"
      },
      "source": [
        "#applying one hot encoder to income stability.\n",
        "d = {'Low':0,'High':1}\n",
        "k = {'Y':1,'N':0}\n",
        "f = {'Unpossessed':0,'Inactive':0,'Active':1}\n",
        "\n",
        "\n",
        "dataset['Income Stability'] = dataset['Income Stability'].map(d)\n",
        "dataset['Has Active Credit Card'] = dataset['Has Active Credit Card'].map(f)\n",
        "dataset['Expense Type 1'] = dataset['Expense Type 1'].map(k)\n",
        "dataset['Expense Type 2'] = dataset['Expense Type 2'].map(k)"
      ],
      "execution_count": null,
      "outputs": []
    },
    {
      "cell_type": "code",
      "metadata": {
        "colab": {
          "base_uri": "https://localhost:8080/"
        },
        "id": "apYdkghsYAOE",
        "outputId": "08cb9fd0-7eb9-4243-ece7-ed49b7080523"
      },
      "source": [
        "dataset.info()"
      ],
      "execution_count": null,
      "outputs": [
        {
          "output_type": "stream",
          "text": [
            "<class 'pandas.core.frame.DataFrame'>\n",
            "RangeIndex: 20000 entries, 0 to 19999\n",
            "Data columns (total 11 columns):\n",
            " #   Column                       Non-Null Count  Dtype  \n",
            "---  ------                       --------------  -----  \n",
            " 0   Customer ID                  20000 non-null  object \n",
            " 1   Income (USD)                 20000 non-null  float64\n",
            " 2   Income Stability             19187 non-null  float64\n",
            " 3   Loan Amount Request (USD)    20000 non-null  float64\n",
            " 4   Current Loan Expenses (USD)  20000 non-null  float64\n",
            " 5   Expense Type 1               20000 non-null  int64  \n",
            " 6   Expense Type 2               20000 non-null  int64  \n",
            " 7   Dependents                   20000 non-null  float64\n",
            " 8   Credit Score                 20000 non-null  float64\n",
            " 9   No. of Defaults              20000 non-null  int64  \n",
            " 10  Has Active Credit Card       18924 non-null  float64\n",
            "dtypes: float64(7), int64(3), object(1)\n",
            "memory usage: 1.7+ MB\n"
          ],
          "name": "stdout"
        }
      ]
    },
    {
      "cell_type": "code",
      "metadata": {
        "id": "VHrMzBRCYEQG"
      },
      "source": [
        "#dataset[\"Loan Amount Request (USD)\"] = dataset[\"Loan Amount Request (USD)\"].map(lambda x: x*1000)"
      ],
      "execution_count": null,
      "outputs": []
    },
    {
      "cell_type": "code",
      "metadata": {
        "id": "dDsF6et0YESn"
      },
      "source": [
        "dataset =dataset.fillna(0)"
      ],
      "execution_count": null,
      "outputs": []
    },
    {
      "cell_type": "code",
      "metadata": {
        "id": "TtVGInIQYEVU"
      },
      "source": [
        "Yd= dataset[\"Customer ID\"]\n",
        "Xd = dataset.drop([\"Customer ID\"], axis=1)"
      ],
      "execution_count": null,
      "outputs": []
    },
    {
      "cell_type": "code",
      "metadata": {
        "colab": {
          "base_uri": "https://localhost:8080/"
        },
        "id": "OrCTWrTXZEPe",
        "outputId": "8a4c92f8-2d95-4f22-ac23-19f6c1bd5fea"
      },
      "source": [
        "regressor.predict(Xd)"
      ],
      "execution_count": null,
      "outputs": [
        {
          "output_type": "execute_result",
          "data": {
            "text/plain": [
              "array([4.67198815e+09, 3.57524500e+09, 6.02117031e+09, ...,\n",
              "       6.38938592e+08, 3.25682652e+09, 3.67801864e+09])"
            ]
          },
          "metadata": {
            "tags": []
          },
          "execution_count": 285
        }
      ]
    },
    {
      "cell_type": "code",
      "metadata": {
        "id": "FCfzGoNZZETE"
      },
      "source": [
        "ydatasetpred = regressor.predict(Xd)"
      ],
      "execution_count": null,
      "outputs": []
    },
    {
      "cell_type": "code",
      "metadata": {
        "id": "lmzHzMuflyxr"
      },
      "source": [
        "ydatasetpred= ydatasetpred/100"
      ],
      "execution_count": null,
      "outputs": []
    },
    {
      "cell_type": "code",
      "metadata": {
        "id": "_-rkZYazZEWD"
      },
      "source": [
        "#dataset.to_csv('ydatasetpred.csv')"
      ],
      "execution_count": null,
      "outputs": []
    },
    {
      "cell_type": "code",
      "metadata": {
        "id": "laIJwbVEZEYu"
      },
      "source": [
        "dataset[\"Sanction loan\"]=ydatasetpred"
      ],
      "execution_count": null,
      "outputs": []
    },
    {
      "cell_type": "code",
      "metadata": {
        "id": "uKsjVEgmcwoQ"
      },
      "source": [
        "dataset.to_csv('resultf.csv')"
      ],
      "execution_count": null,
      "outputs": []
    },
    {
      "cell_type": "markdown",
      "metadata": {
        "id": "Kikuog2dXjIw"
      },
      "source": [
        ""
      ]
    },
    {
      "cell_type": "markdown",
      "metadata": {
        "id": "IHkrLJAKWx78"
      },
      "source": [
        ""
      ]
    }
  ]
}